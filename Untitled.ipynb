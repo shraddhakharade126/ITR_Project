{
 "cells": [
  {
   "cell_type": "code",
   "execution_count": 1,
   "id": "f5fadc49-6d44-45cf-abcf-9008eee28111",
   "metadata": {},
   "outputs": [
    {
     "name": "stdout",
     "output_type": "stream",
     "text": [
      "✅ Dataset saved as College_Event_Dataset_7000.csv with shape: (7000, 12)\n"
     ]
    }
   ],
   "source": [
    "import pandas as pd\n",
    "import numpy as np\n",
    "\n",
    "# Load cleaned dataset\n",
    "df = pd.read_csv(\"Kaggle_Enhanced_College_Event_Dataset.csv\")\n",
    "\n",
    "# Target size\n",
    "target_size = 7000\n",
    "current_size = df.shape[0]\n",
    "\n",
    "if current_size < target_size:\n",
    "    extra_needed = target_size - current_size\n",
    "    sampled = df.sample(extra_needed, replace=True, random_state=42).copy()\n",
    "    \n",
    "    # Add variation\n",
    "    sampled['Attendance'] = sampled['Attendance'] + np.random.randint(-10, 11, size=sampled.shape[0])\n",
    "    sampled['Attendance'] = sampled['Attendance'].clip(lower=10)\n",
    "    sampled['FeedbackScore'] = sampled['FeedbackScore'] + np.random.choice([-1, 0, 1], size=sampled.shape[0])\n",
    "    sampled['FeedbackScore'] = sampled['FeedbackScore'].clip(1, 5)\n",
    "    \n",
    "    df_aug = pd.concat([df, sampled], ignore_index=True)\n",
    "else:\n",
    "    df_aug = df.sample(target_size, random_state=42).reset_index(drop=True)\n",
    "\n",
    "# Final shuffle\n",
    "df_aug = df_aug.sample(target_size, random_state=42).reset_index(drop=True)\n",
    "\n",
    "# Save dataset\n",
    "df_aug.to_csv(\"College_Event_Dataset_7000.csv\", index=False)\n",
    "print(\"✅ Dataset saved as College_Event_Dataset_7000.csv with shape:\", df_aug.shape)\n"
   ]
  },
  {
   "cell_type": "code",
   "execution_count": null,
   "id": "297f1b17-073a-4704-9184-c20c7ea63423",
   "metadata": {},
   "outputs": [],
   "source": []
  }
 ],
 "metadata": {
  "kernelspec": {
   "display_name": "Python 3 (ipykernel)",
   "language": "python",
   "name": "python3"
  },
  "language_info": {
   "codemirror_mode": {
    "name": "ipython",
    "version": 3
   },
   "file_extension": ".py",
   "mimetype": "text/x-python",
   "name": "python",
   "nbconvert_exporter": "python",
   "pygments_lexer": "ipython3",
   "version": "3.13.7"
  }
 },
 "nbformat": 4,
 "nbformat_minor": 5
}
