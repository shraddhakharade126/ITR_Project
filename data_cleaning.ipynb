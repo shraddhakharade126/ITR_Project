{
 "cells": [
  {
   "cell_type": "code",
   "execution_count": 12,
   "id": "5a79b9e8-d803-4340-8281-db6b3338ecbe",
   "metadata": {},
   "outputs": [],
   "source": [
    "# import libraies\n",
    "\n",
    "import pandas as pd\n",
    "import numpy as np\n",
    "import matplotlib.pyplot as plt\n",
    "import warnings\n",
    "warnings.filterwarnings('ignore')"
   ]
  },
  {
   "cell_type": "code",
   "execution_count": 4,
   "id": "9dab823e-0641-4007-8252-49f2b8017913",
   "metadata": {},
   "outputs": [
    {
     "name": "stdout",
     "output_type": "stream",
     "text": [
      "Raw Dataset Shape: (7000, 12)\n"
     ]
    }
   ],
   "source": [
    "# import dataset\n",
    "\n",
    "df = pd.read_csv(\"College_Event_Dataset.csv\")\n",
    "print(\"Raw Dataset Shape:\", df.shape)"
   ]
  },
  {
   "cell_type": "code",
   "execution_count": 5,
   "id": "f422888e-2467-4e95-8a1d-60f62aa6cfd1",
   "metadata": {},
   "outputs": [
    {
     "name": "stdout",
     "output_type": "stream",
     "text": [
      "<class 'pandas.core.frame.DataFrame'>\n",
      "RangeIndex: 7000 entries, 0 to 6999\n",
      "Data columns (total 12 columns):\n",
      " #   Column           Non-Null Count  Dtype  \n",
      "---  ------           --------------  -----  \n",
      " 0   EventID          7000 non-null   int64  \n",
      " 1   EventName        7000 non-null   object \n",
      " 2   EventType        7000 non-null   object \n",
      " 3   Department       6769 non-null   object \n",
      " 4   DayOfWeek        7000 non-null   object \n",
      " 5   Season           7000 non-null   object \n",
      " 6   TimeOfDay        7000 non-null   object \n",
      " 7   VenueCapacity    7000 non-null   int64  \n",
      " 8   Attendance       7000 non-null   int64  \n",
      " 9   AttendanceLevel  7000 non-null   object \n",
      " 10  FeedbackScore    6867 non-null   float64\n",
      " 11  EngagementIndex  7000 non-null   float64\n",
      "dtypes: float64(2), int64(3), object(7)\n",
      "memory usage: 656.4+ KB\n"
     ]
    }
   ],
   "source": [
    "df.info()"
   ]
  },
  {
   "cell_type": "code",
   "execution_count": 6,
   "id": "bbf7e3fa-a1e5-4e76-8e03-c6507e796420",
   "metadata": {},
   "outputs": [
    {
     "data": {
      "text/plain": [
       "np.int64(712)"
      ]
     },
     "execution_count": 6,
     "metadata": {},
     "output_type": "execute_result"
    }
   ],
   "source": [
    "df.duplicated().sum()"
   ]
  },
  {
   "cell_type": "code",
   "execution_count": 7,
   "id": "33b16a66-d8c9-4d75-84ba-de4e4062b39c",
   "metadata": {},
   "outputs": [
    {
     "name": "stdout",
     "output_type": "stream",
     "text": [
      "After Removing Duplicates: (6288, 12)\n"
     ]
    }
   ],
   "source": [
    "df.drop_duplicates(inplace=True)\n",
    "print(\"After Removing Duplicates:\", df.shape)"
   ]
  },
  {
   "cell_type": "code",
   "execution_count": 8,
   "id": "b332a4b3-a2b1-4a1a-b85d-753dea94a3c8",
   "metadata": {},
   "outputs": [
    {
     "name": "stdout",
     "output_type": "stream",
     "text": [
      "<class 'pandas.core.frame.DataFrame'>\n",
      "Index: 6288 entries, 0 to 6999\n",
      "Data columns (total 12 columns):\n",
      " #   Column           Non-Null Count  Dtype  \n",
      "---  ------           --------------  -----  \n",
      " 0   EventID          6288 non-null   int64  \n",
      " 1   EventName        6288 non-null   object \n",
      " 2   EventType        6288 non-null   object \n",
      " 3   Department       6078 non-null   object \n",
      " 4   DayOfWeek        6288 non-null   object \n",
      " 5   Season           6288 non-null   object \n",
      " 6   TimeOfDay        6288 non-null   object \n",
      " 7   VenueCapacity    6288 non-null   int64  \n",
      " 8   Attendance       6288 non-null   int64  \n",
      " 9   AttendanceLevel  6288 non-null   object \n",
      " 10  FeedbackScore    6178 non-null   float64\n",
      " 11  EngagementIndex  6288 non-null   float64\n",
      "dtypes: float64(2), int64(3), object(7)\n",
      "memory usage: 638.6+ KB\n"
     ]
    }
   ],
   "source": [
    "df.info()"
   ]
  },
  {
   "cell_type": "code",
   "execution_count": 9,
   "id": "c46f652e-dd7e-49ab-be3a-911d15808154",
   "metadata": {},
   "outputs": [
    {
     "data": {
      "text/plain": [
       "EventID              0\n",
       "EventName            0\n",
       "EventType            0\n",
       "Department         210\n",
       "DayOfWeek            0\n",
       "Season               0\n",
       "TimeOfDay            0\n",
       "VenueCapacity        0\n",
       "Attendance           0\n",
       "AttendanceLevel      0\n",
       "FeedbackScore      110\n",
       "EngagementIndex      0\n",
       "dtype: int64"
      ]
     },
     "execution_count": 9,
     "metadata": {},
     "output_type": "execute_result"
    }
   ],
   "source": [
    "# finding missing values \n",
    "\n",
    "df.isnull().sum()"
   ]
  },
  {
   "cell_type": "code",
   "execution_count": 10,
   "id": "4fff329a-e571-46e0-aebf-80afffc31395",
   "metadata": {},
   "outputs": [
    {
     "name": "stdout",
     "output_type": "stream",
     "text": [
      "Remaining Nulls:\n",
      " EventID            0\n",
      "EventName          0\n",
      "EventType          0\n",
      "Department         0\n",
      "DayOfWeek          0\n",
      "Season             0\n",
      "TimeOfDay          0\n",
      "VenueCapacity      0\n",
      "Attendance         0\n",
      "AttendanceLevel    0\n",
      "FeedbackScore      0\n",
      "EngagementIndex    0\n",
      "dtype: int64\n"
     ]
    }
   ],
   "source": [
    "# Step 3: Handle Missing Values\n",
    "# -------------------------\n",
    "# Fill Department with 'Unknown'\n",
    "if 'Department' in df.columns:\n",
    "    df['Department'] = df['Department'].fillna(\"Unknown\")\n",
    "\n",
    "# Fill FeedbackScore with median if available\n",
    "if 'FeedbackScore' in df.columns:\n",
    "    df['FeedbackScore'] = df['FeedbackScore'].fillna(df['FeedbackScore'].median())\n",
    "\n",
    "print(\"Remaining Nulls:\\n\", df.isnull().sum())"
   ]
  },
  {
   "cell_type": "code",
   "execution_count": 13,
   "id": "7497b82f-8c0d-41d8-ac91-305a7f735f4a",
   "metadata": {},
   "outputs": [
    {
     "name": "stdout",
     "output_type": "stream",
     "text": [
      "\n",
      "Class Distribution (AttendanceLevel):\n",
      "AttendanceLevel\n",
      "High      33.699109\n",
      "Medium    33.365140\n",
      "Low       32.935751\n",
      "Name: proportion, dtype: float64\n"
     ]
    },
    {
     "data": {
      "image/png": "[encoded data removed]",
      "text/plain": [
       "<Figure size 640x480 with 1 Axes>"
      ]
     },
     "metadata": {},
     "output_type": "display_data"
    }
   ],
   "source": [
    "# Step 4: Check Balance of AttendanceLevel\n",
    "# -------------------------\n",
    "if 'AttendanceLevel' in df.columns:\n",
    "    print(\"\\nClass Distribution (AttendanceLevel):\")\n",
    "    print(df['AttendanceLevel'].value_counts(normalize=True) * 100)\n",
    "\n",
    "    df['AttendanceLevel'].value_counts().plot(kind=\"bar\")\n",
    "    plt.title(\"AttendanceLevel Distribution\")\n",
    "    plt.xlabel(\"Class\")\n",
    "    plt.ylabel(\"Count\")\n",
    "    plt.show()"
   ]
  },
  {
   "cell_type": "code",
   "execution_count": 14,
   "id": "76d36a52-0149-4799-92db-db51b40ecab4",
   "metadata": {},
   "outputs": [
    {
     "name": "stdout",
     "output_type": "stream",
     "text": [
      "✅ Cleaned dataset saved \n"
     ]
    }
   ],
   "source": [
    "# Step 5: Save Cleaned Dataset\n",
    "\n",
    "df.to_csv(\"Cleaned_College_Event_Dataset.csv\", index=False)\n",
    "print(\"✅ Cleaned dataset saved \")"
   ]
  },
  {
   "cell_type": "code",
   "execution_count": null,
   "id": "1f37743d-6fcb-4d61-9289-af9f0dc2c761",
   "metadata": {},
   "outputs": [],
   "source": []
  }
 ],
 "metadata": {
  "kernelspec": {
   "display_name": "Python 3 (ipykernel)",
   "language": "python",
   "name": "python3"
  },
  "language_info": {
   "codemirror_mode": {
    "name": "ipython",
    "version": 3
   },
   "file_extension": ".py",
   "mimetype": "text/x-python",
   "name": "python",
   "nbconvert_exporter": "python",
   "pygments_lexer": "ipython3",
   "version": "3.13.7"
  }
 },
 "nbformat": 4,
 "nbformat_minor": 5
}
